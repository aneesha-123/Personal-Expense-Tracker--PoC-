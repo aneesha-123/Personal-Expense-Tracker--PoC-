{
 "cells": [
  {
   "cell_type": "code",
   "execution_count": 3,
   "id": "ffe4a528-e442-498b-bcdf-74e5778d1905",
   "metadata": {},
   "outputs": [],
   "source": [
    "# 💰 Personal Expense Tracker — PoC\n",
    "\n",
    "#  **Objective:** Build a compact,  expense tracker in Jupyter that demonstrates Core Python, OOP, file handling, logging, error handling, generators and a simple visualization.\n",
    "\n",
    "#  **How to use:** Run cells in order. The notebook will create sample data, define the `ExpenseTracker` class, and show example usage."
   ]
  },
  {
   "cell_type": "code",
   "execution_count": 9,
   "id": "388a0dbb-d328-4820-8a87-6960d41a098b",
   "metadata": {},
   "outputs": [
    {
     "name": "stdout",
     "output_type": "stream",
     "text": [
      "✅ Setup complete. Directories: data/, logs/\n"
     ]
    }
   ],
   "source": [
    "import csv  # for reading/writing expense files.\n",
    "import os   # for directory handling.\n",
    "import datetime  #  for working with dates.\n",
    "import logging  # to track program activities or errors\n",
    "import matplotlib.pyplot as plt  # for data visualization.\n",
    "\n",
    "# Create folders for data and logs  if they don’t already exist.\n",
    "os.makedirs('Data', exist_ok = True)\n",
    "os.makedirs('log', exist_ok = True)\n",
    "\n",
    "\n",
    "# Setup logging\n",
    "logging.basicConfig(\n",
    "    filename = 'log/expense_tracker.log',\n",
    "    level = logging.INFO,\n",
    "    format = '%(asctime)s - %(levelname)s - %(message)s'   # 2025-10-30 14:10:22,658 - INFO - Expense added successfully.  current timestamp - INFO, WARNING, ERROR, etc.-your log message\n",
    ")\n",
    "\n",
    "print(\"✅ Setup complete. Directories: data/, logs/\")"
   ]
  },
  {
   "cell_type": "code",
   "execution_count": null,
   "id": "7282d6e3-aca0-4d20-8123-46c9b241a1be",
   "metadata": {},
   "outputs": [],
   "source": [
    "# Helper Decorator\n",
    "\n",
    "def log_time(fun):\n",
    "    def wrapper(*args,**kwargs):\n",
    "        start = time.time()\n",
    "        result = fun(*arga, **kwargs)\n",
    "        end = time.time()\n",
    "        print(f\"{fun.__name__} Executed in {end - start:.3f}s\")\n",
    "        return result\n",
    "    return wrapper\n",
    "\n",
    "print(\"✅ Decorator ready\")"
   ]
  },
  {
   "cell_type": "code",
   "execution_count": 10,
   "id": "9a8955f4-446a-4e9a-ab89-3238ebe503b0",
   "metadata": {},
   "outputs": [
    {
     "name": "stdout",
     "output_type": "stream",
     "text": [
      "✅ Sample CSV created at: data/expenses_sample.csv\n"
     ]
    }
   ],
   "source": [
    "# Create Sample CSV Data\n",
    "\n",
    "sample_path = 'data/expenses_sample.csv'\n",
    "\n",
    "if not os.path.exists(sample_path):\n",
    "    rows = [\n",
    "        {\"date\":\"2025-10-01\",\"category\":\"Food\",\"amount\":\"150\"},\n",
    "        {\"date\":\"2025-10-02\",\"category\":\"Travel\",\"amount\":\"60\"},\n",
    "        {\"date\":\"2025-10-03\",\"category\":\"Utilities\",\"amount\":\"1200\"},\n",
    "        {\"date\":\"2025-10-05\",\"category\":\"Food\",\"amount\":\"200\"},\n",
    "        {\"date\":\"2025-09-28\",\"category\":\"Shopping\",\"amount\":\"800\"},\n",
    "        {\"date\":\"2025-09-30\",\"category\":\"Food\",\"amount\":\"90\"},\n",
    "    ]\n",
    "    with open(sample_path, 'w', newline='', encoding='utf-8') as f:\n",
    "        writer  = csv.DictWriter(f, fieldnames=['date','category','amount'])\n",
    "        writer.writeheader()\n",
    "        writer.writerows(rows)\n",
    "    print(f\"✅ Sample CSV created at: {sample_path}\")\n",
    "else:\n",
    "    print(f\"ℹ️ Sample CSV already exists at: {sample_path}\")\n",
    "        "
   ]
  },
  {
   "cell_type": "code",
   "execution_count": null,
   "id": "5862a99b-df33-46b8-b4ff-d916e6e7262d",
   "metadata": {},
   "outputs": [],
   "source": []
  }
 ],
 "metadata": {
  "kernelspec": {
   "display_name": "Python 3 (ipykernel)",
   "language": "python",
   "name": "python3"
  },
  "language_info": {
   "codemirror_mode": {
    "name": "ipython",
    "version": 3
   },
   "file_extension": ".py",
   "mimetype": "text/x-python",
   "name": "python",
   "nbconvert_exporter": "python",
   "pygments_lexer": "ipython3",
   "version": "3.13.5"
  }
 },
 "nbformat": 4,
 "nbformat_minor": 5
}
